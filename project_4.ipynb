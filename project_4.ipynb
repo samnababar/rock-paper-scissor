{
  "nbformat": 4,
  "nbformat_minor": 0,
  "metadata": {
    "colab": {
      "provenance": []
    },
    "kernelspec": {
      "name": "python3",
      "display_name": "Python 3"
    },
    "language_info": {
      "name": "python"
    }
  },
  "cells": [
    {
      "cell_type": "code",
      "execution_count": 2,
      "metadata": {
        "colab": {
          "base_uri": "https://localhost:8080/"
        },
        "id": "NDzmXA38hI4s",
        "outputId": "0d5b93ca-7b8c-4aee-b859-4b8650aa8159"
      },
      "outputs": [
        {
          "output_type": "stream",
          "name": "stdout",
          "text": [
            "Welcome to Rock, Paper, Scissors!\n",
            "--------------------------------\n",
            "\n",
            "Score - You: 0 | Computer: 0\n",
            "Choose rock, paper, or scissors: scissors\n",
            "\n",
            "You chose: scissors\n",
            "Computer chose: rock\n",
            "Computer wins this round!\n",
            "\n",
            "Play again? (yes/no): no\n",
            "\n",
            "Final Score:\n",
            "You: 0 | Computer: 1\n",
            "Computer won the game. Better luck next time!\n",
            "\n",
            "Thanks for playing!\n"
          ]
        }
      ],
      "source": [
        "import random\n",
        "\n",
        "def get_user_choice():\n",
        "    \"\"\"Get and validate user's choice\"\"\"\n",
        "    while True:\n",
        "        user_choice = input(\"Choose rock, paper, or scissors: \").lower()\n",
        "        if user_choice in ['rock', 'paper', 'scissors']:\n",
        "            return user_choice\n",
        "        print(\"Invalid choice. Please try again.\")\n",
        "\n",
        "def get_computer_choice():\n",
        "    \"\"\"Generate computer's random choice\"\"\"\n",
        "    return random.choice(['rock', 'paper', 'scissors'])\n",
        "\n",
        "def determine_winner(user, computer):\n",
        "    \"\"\"Determine the game winner\"\"\"\n",
        "    if user == computer:\n",
        "        return \"tie\"\n",
        "    elif (user == 'rock' and computer == 'scissors') or \\\n",
        "         (user == 'paper' and computer == 'rock') or \\\n",
        "         (user == 'scissors' and computer == 'paper'):\n",
        "        return \"user\"\n",
        "    else:\n",
        "        return \"computer\"\n",
        "\n",
        "def play_game():\n",
        "    \"\"\"Main game function\"\"\"\n",
        "    print(\"Welcome to Rock, Paper, Scissors!\")\n",
        "    print(\"--------------------------------\")\n",
        "\n",
        "    user_score = 0\n",
        "    computer_score = 0\n",
        "\n",
        "    while True:\n",
        "        print(f\"\\nScore - You: {user_score} | Computer: {computer_score}\")\n",
        "        user_choice = get_user_choice()\n",
        "        computer_choice = get_computer_choice()\n",
        "\n",
        "        print(f\"\\nYou chose: {user_choice}\")\n",
        "        print(f\"Computer chose: {computer_choice}\")\n",
        "\n",
        "        result = determine_winner(user_choice, computer_choice)\n",
        "\n",
        "        if result == \"tie\":\n",
        "            print(\"It's a tie!\")\n",
        "        elif result == \"user\":\n",
        "            print(\"You win this round!\")\n",
        "            user_score += 1\n",
        "        else:\n",
        "            print(\"Computer wins this round!\")\n",
        "            computer_score += 1\n",
        "\n",
        "        play_again = input(\"\\nPlay again? (yes/no): \").lower()\n",
        "        if play_again != 'yes':\n",
        "            print(\"\\nFinal Score:\")\n",
        "            print(f\"You: {user_score} | Computer: {computer_score}\")\n",
        "            if user_score > computer_score:\n",
        "                print(\"Congratulations! You won the game!\")\n",
        "            elif computer_score > user_score:\n",
        "                print(\"Computer won the game. Better luck next time!\")\n",
        "            else:\n",
        "                print(\"The game ended in a tie!\")\n",
        "            print(\"\\nThanks for playing!\")\n",
        "            break\n",
        "\n",
        "# Start the game\n",
        "play_game()"
      ]
    }
  ]
}